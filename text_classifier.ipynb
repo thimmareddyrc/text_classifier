{
 "cells": [
  {
   "cell_type": "code",
   "execution_count": 1,
   "id": "b274562f",
   "metadata": {},
   "outputs": [],
   "source": [
    "import numpy as np\n",
    "import tensorflow as tf"
   ]
  },
  {
   "cell_type": "code",
   "execution_count": 2,
   "id": "b632f9a3",
   "metadata": {},
   "outputs": [],
   "source": [
    "import tensorflow_hub as hub\n",
    "import tensorflow_datasets as tfds"
   ]
  },
  {
   "cell_type": "code",
   "execution_count": 5,
   "id": "6552d693",
   "metadata": {},
   "outputs": [],
   "source": [
    "train_data,v_data,test_data=tfds.load(name=\"imdb_reviews\",\n",
    "                                      split=('train[:60%]','train[60%:]','test'),\n",
    "                                      as_supervised=True)"
   ]
  },
  {
   "cell_type": "code",
   "execution_count": 6,
   "id": "d018c7c9",
   "metadata": {},
   "outputs": [
    {
     "data": {
      "text/plain": [
       "<_PrefetchDataset element_spec=(TensorSpec(shape=(), dtype=tf.string, name=None), TensorSpec(shape=(), dtype=tf.int64, name=None))>"
      ]
     },
     "execution_count": 6,
     "metadata": {},
     "output_type": "execute_result"
    }
   ],
   "source": [
    "train_data"
   ]
  },
  {
   "cell_type": "code",
   "execution_count": 7,
   "id": "0cac5410",
   "metadata": {},
   "outputs": [],
   "source": [
    "train_ex_batch,train_lab_batch=next(iter(train_data.batch(10)))"
   ]
  },
  {
   "cell_type": "code",
   "execution_count": 8,
   "id": "f5525c06",
   "metadata": {},
   "outputs": [
    {
     "data": {
      "text/plain": [
       "<tf.Tensor: shape=(10,), dtype=string, numpy=\n",
       "array([b\"This was an absolutely terrible movie. Don't be lured in by Christopher Walken or Michael Ironside. Both are great actors, but this must simply be their worst role in history. Even their great acting could not redeem this movie's ridiculous storyline. This movie is an early nineties US propaganda piece. The most pathetic scenes were those when the Columbian rebels were making their cases for revolutions. Maria Conchita Alonso appeared phony, and her pseudo-love affair with Walken was nothing but a pathetic emotional plug in a movie that was devoid of any real meaning. I am disappointed that there are movies like this, ruining actor's like Christopher Walken's good name. I could barely sit through it.\",\n",
       "       b'I have been known to fall asleep during films, but this is usually due to a combination of things including, really tired, being warm and comfortable on the sette and having just eaten a lot. However on this occasion I fell asleep because the film was rubbish. The plot development was constant. Constantly slow and boring. Things seemed to happen, but with no explanation of what was causing them or why. I admit, I may have missed part of the film, but i watched the majority of it and everything just seemed to happen of its own accord without any real concern for anything else. I cant recommend this film at all.',\n",
       "       b'Mann photographs the Alberta Rocky Mountains in a superb fashion, and Jimmy Stewart and Walter Brennan give enjoyable performances as they always seem to do. <br /><br />But come on Hollywood - a Mountie telling the people of Dawson City, Yukon to elect themselves a marshal (yes a marshal!) and to enforce the law themselves, then gunfighters battling it out on the streets for control of the town? <br /><br />Nothing even remotely resembling that happened on the Canadian side of the border during the Klondike gold rush. Mr. Mann and company appear to have mistaken Dawson City for Deadwood, the Canadian North for the American Wild West.<br /><br />Canadian viewers be prepared for a Reefer Madness type of enjoyable howl with this ludicrous plot, or, to shake your head in disgust.',\n",
       "       b'This is the kind of film for a snowy Sunday afternoon when the rest of the world can go ahead with its own business as you descend into a big arm-chair and mellow for a couple of hours. Wonderful performances from Cher and Nicolas Cage (as always) gently row the plot along. There are no rapids to cross, no dangerous waters, just a warm and witty paddle through New York life at its best. A family film in every sense and one that deserves the praise it received.',\n",
       "       b'As others have mentioned, all the women that go nude in this film are mostly absolutely gorgeous. The plot very ably shows the hypocrisy of the female libido. When men are around they want to be pursued, but when no \"men\" are around, they become the pursuers of a 14 year old boy. And the boy becomes a man really fast (we should all be so lucky at this age!). He then gets up the courage to pursue his true love.',\n",
       "       b\"This is a film which should be seen by anybody interested in, effected by, or suffering from an eating disorder. It is an amazingly accurate and sensitive portrayal of bulimia in a teenage girl, its causes and its symptoms. The girl is played by one of the most brilliant young actresses working in cinema today, Alison Lohman, who was later so spectacular in 'Where the Truth Lies'. I would recommend that this film be shown in all schools, as you will never see a better on this subject. Alison Lohman is absolutely outstanding, and one marvels at her ability to convey the anguish of a girl suffering from this compulsive disorder. If barometers tell us the air pressure, Alison Lohman tells us the emotional pressure with the same degree of accuracy. Her emotional range is so precise, each scene could be measured microscopically for its gradations of trauma, on a scale of rising hysteria and desperation which reaches unbearable intensity. Mare Winningham is the perfect choice to play her mother, and does so with immense sympathy and a range of emotions just as finely tuned as Lohman's. Together, they make a pair of sensitive emotional oscillators vibrating in resonance with one another. This film is really an astonishing achievement, and director Katt Shea should be proud of it. The only reason for not seeing it is if you are not interested in people. But even if you like nature films best, this is after all animal behaviour at the sharp edge. Bulimia is an extreme version of how a tormented soul can destroy her own body in a frenzy of despair. And if we don't sympathise with people suffering from the depths of despair, then we are dead inside.\",\n",
       "       b'Okay, you have:<br /><br />Penelope Keith as Miss Herringbone-Tweed, B.B.E. (Backbone of England.) She\\'s killed off in the first scene - that\\'s right, folks; this show has no backbone!<br /><br />Peter O\\'Toole as Ol\\' Colonel Cricket from The First War and now the emblazered Lord of the Manor.<br /><br />Joanna Lumley as the ensweatered Lady of the Manor, 20 years younger than the colonel and 20 years past her own prime but still glamourous (Brit spelling, not mine) enough to have a toy-boy on the side. It\\'s alright, they have Col. Cricket\\'s full knowledge and consent (they guy even comes \\'round for Christmas!) Still, she\\'s considerate of the colonel enough to have said toy-boy her own age (what a gal!)<br /><br />David McCallum as said toy-boy, equally as pointlessly glamourous as his squeeze. Pilcher couldn\\'t come up with any cover for him within the story, so she gave him a hush-hush job at the Circus.<br /><br />and finally:<br /><br />Susan Hampshire as Miss Polonia Teacups, Venerable Headmistress of the Venerable Girls\\' Boarding-School, serving tea in her office with a dash of deep, poignant advice for life in the outside world just before graduation. Her best bit of advice: \"I\\'ve only been to Nancherrow (the local Stately Home of England) once. I thought it was very beautiful but, somehow, not part of the real world.\" Well, we can\\'t say they didn\\'t warn us.<br /><br />Ah, Susan - time was, your character would have been running the whole show. They don\\'t write \\'em like that any more. Our loss, not yours.<br /><br />So - with a cast and setting like this, you have the re-makings of \"Brideshead Revisited,\" right?<br /><br />Wrong! They took these 1-dimensional supporting roles because they paid so well. After all, acting is one of the oldest temp-jobs there is (YOU name another!)<br /><br />First warning sign: lots and lots of backlighting. They get around it by shooting outdoors - \"hey, it\\'s just the sunlight!\"<br /><br />Second warning sign: Leading Lady cries a lot. When not crying, her eyes are moist. That\\'s the law of romance novels: Leading Lady is \"dewy-eyed.\"<br /><br />Henceforth, Leading Lady shall be known as L.L.<br /><br />Third warning sign: L.L. actually has stars in her eyes when she\\'s in love. Still, I\\'ll give Emily Mortimer an award just for having to act with that spotlight in her eyes (I wonder . did they use contacts?)<br /><br />And lastly, fourth warning sign: no on-screen female character is \"Mrs.\" She\\'s either \"Miss\" or \"Lady.\"<br /><br />When all was said and done, I still couldn\\'t tell you who was pursuing whom and why. I couldn\\'t even tell you what was said and done.<br /><br />To sum up: they all live through World War II without anything happening to them at all.<br /><br />OK, at the end, L.L. finds she\\'s lost her parents to the Japanese prison camps and baby sis comes home catatonic. Meanwhile (there\\'s always a \"meanwhile,\") some young guy L.L. had a crush on (when, I don\\'t know) comes home from some wartime tough spot and is found living on the street by Lady of the Manor (must be some street if SHE\\'s going to find him there.) Both war casualties are whisked away to recover at Nancherrow (SOMEBODY has to be \"whisked away\" SOMEWHERE in these romance stories!)<br /><br />Great drama.',\n",
       "       b'The film is based on a genuine 1950s novel.<br /><br />Journalist Colin McInnes wrote a set of three \"London novels\": \"Absolute Beginners\", \"City of Spades\" and \"Mr Love and Justice\". I have read all three. The first two are excellent. The last, perhaps an experiment that did not come off. But McInnes\\'s work is highly acclaimed; and rightly so. This musical is the novelist\\'s ultimate nightmare - to see the fruits of one\\'s mind being turned into a glitzy, badly-acted, soporific one-dimensional apology of a film that says it captures the spirit of 1950s London, and does nothing of the sort.<br /><br />Thank goodness Colin McInnes wasn\\'t alive to witness it.',\n",
       "       b'I really love the sexy action and sci-fi films of the sixties and its because of the actress\\'s that appeared in them. They found the sexiest women to be in these films and it didn\\'t matter if they could act (Remember \"Candy\"?). The reason I was disappointed by this film was because it wasn\\'t nostalgic enough. The story here has a European sci-fi film called \"Dragonfly\" being made and the director is fired. So the producers decide to let a young aspiring filmmaker (Jeremy Davies) to complete the picture. They\\'re is one real beautiful woman in the film who plays Dragonfly but she\\'s barely in it. Film is written and directed by Roman Coppola who uses some of his fathers exploits from his early days and puts it into the script. I wish the film could have been an homage to those early films. They could have lots of cameos by actors who appeared in them. There is one actor in this film who was popular from the sixties and its John Phillip Law (Barbarella). Gerard Depardieu, Giancarlo Giannini and Dean Stockwell appear as well. I guess I\\'m going to have to continue waiting for a director to make a good homage to the films of the sixties. If any are reading this, \"Make it as sexy as you can\"! I\\'ll be waiting!',\n",
       "       b'Sure, this one isn\\'t really a blockbuster, nor does it target such a position. \"Dieter\" is the first name of a quite popular German musician, who is either loved or hated for his kind of acting and thats exactly what this movie is about. It is based on the autobiography \"Dieter Bohlen\" wrote a few years ago but isn\\'t meant to be accurate on that. The movie is filled with some sexual offensive content (at least for American standard) which is either amusing (not for the other \"actors\" of course) or dumb - it depends on your individual kind of humor or on you being a \"Bohlen\"-Fan or not. Technically speaking there isn\\'t much to criticize. Speaking of me I find this movie to be an OK-movie.'],\n",
       "      dtype=object)>"
      ]
     },
     "execution_count": 8,
     "metadata": {},
     "output_type": "execute_result"
    }
   ],
   "source": [
    "train_ex_batch"
   ]
  },
  {
   "cell_type": "code",
   "execution_count": 9,
   "id": "f8de2812",
   "metadata": {},
   "outputs": [
    {
     "data": {
      "text/plain": [
       "<tf.Tensor: shape=(10,), dtype=int64, numpy=array([0, 0, 0, 1, 1, 1, 0, 0, 0, 0], dtype=int64)>"
      ]
     },
     "execution_count": 9,
     "metadata": {},
     "output_type": "execute_result"
    }
   ],
   "source": [
    "train_lab_batch"
   ]
  },
  {
   "cell_type": "code",
   "execution_count": 11,
   "id": "9a03b9ad",
   "metadata": {},
   "outputs": [],
   "source": [
    "em=\"https://tfhub.dev/google/tf2-preview/gnews-swivel-20dim/1\""
   ]
  },
  {
   "cell_type": "code",
   "execution_count": 14,
   "id": "8a3e0c50",
   "metadata": {},
   "outputs": [],
   "source": [
    "hub_layer=hub.KerasLayer(em,input_shape=[],dtype=tf.string,trainable=True)"
   ]
  },
  {
   "cell_type": "code",
   "execution_count": 16,
   "id": "b97753df",
   "metadata": {},
   "outputs": [
    {
     "data": {
      "text/plain": [
       "<tf.Tensor: shape=(3, 20), dtype=float32, numpy=\n",
       "array([[ 1.765786  , -3.882232  ,  3.9134233 , -1.5557289 , -3.3362343 ,\n",
       "        -1.7357955 , -1.9954445 ,  1.2989551 ,  5.081598  , -1.1041286 ,\n",
       "        -2.0503852 , -0.72675157, -0.65675956,  0.24436149, -3.7208383 ,\n",
       "         2.0954835 ,  2.2969332 , -2.0689783 , -2.9489717 , -1.1315987 ],\n",
       "       [ 1.8804485 , -2.5852382 ,  3.4066997 ,  1.0982676 , -4.056685  ,\n",
       "        -4.891284  , -2.785554  ,  1.3874227 ,  3.8476458 , -0.9256538 ,\n",
       "        -1.896706  ,  1.2113281 ,  0.11474707,  0.76209456, -4.8791065 ,\n",
       "         2.906149  ,  4.7087674 , -2.3652055 , -3.5015898 , -1.6390051 ],\n",
       "       [ 0.71152234, -0.6353217 ,  1.7385626 , -1.1168286 , -0.5451594 ,\n",
       "        -1.1808156 ,  0.09504455,  1.4653089 ,  0.66059524,  0.79308075,\n",
       "        -2.2268345 ,  0.07446612, -1.4075904 , -0.70645386, -1.907037  ,\n",
       "         1.4419787 ,  1.9551861 , -0.42660055, -2.8022065 ,  0.43727064]],\n",
       "      dtype=float32)>"
      ]
     },
     "execution_count": 16,
     "metadata": {},
     "output_type": "execute_result"
    }
   ],
   "source": [
    "hub_layer(train_ex_batch[:3])"
   ]
  },
  {
   "cell_type": "code",
   "execution_count": 18,
   "id": "c7a8d32b",
   "metadata": {},
   "outputs": [],
   "source": [
    "model=tf.keras.Sequential()\n",
    "model.add(hub_layer)"
   ]
  },
  {
   "cell_type": "code",
   "execution_count": 23,
   "id": "4bb50885",
   "metadata": {},
   "outputs": [],
   "source": [
    "model.add(tf.keras.layers.Dense(16,activation='relu'))\n",
    "model.add(tf.keras.layers.Dense(1))"
   ]
  },
  {
   "cell_type": "code",
   "execution_count": 24,
   "id": "24aa1c59",
   "metadata": {},
   "outputs": [
    {
     "name": "stdout",
     "output_type": "stream",
     "text": [
      "Model: \"sequential\"\n",
      "_________________________________________________________________\n",
      " Layer (type)                Output Shape              Param #   \n",
      "=================================================================\n",
      " keras_layer (KerasLayer)    (None, 20)                400020    \n",
      "                                                                 \n",
      " dense (Dense)               (None, 16)                336       \n",
      "                                                                 \n",
      " dense_1 (Dense)             (None, 1)                 17        \n",
      "                                                                 \n",
      "=================================================================\n",
      "Total params: 400373 (1.53 MB)\n",
      "Trainable params: 400373 (1.53 MB)\n",
      "Non-trainable params: 0 (0.00 Byte)\n",
      "_________________________________________________________________\n"
     ]
    }
   ],
   "source": [
    "model.summary()"
   ]
  },
  {
   "cell_type": "code",
   "execution_count": 27,
   "id": "0b1a79d1",
   "metadata": {},
   "outputs": [],
   "source": [
    "model.compile(optimizer='adam',loss=tf.keras.losses.BinaryCrossentropy(from_logits=True),metrics=['accuracy'])"
   ]
  },
  {
   "cell_type": "code",
   "execution_count": 28,
   "id": "5b3f196d",
   "metadata": {},
   "outputs": [
    {
     "name": "stdout",
     "output_type": "stream",
     "text": [
      "Epoch 1/25\n",
      "150/150 [==============================] - 4s 20ms/step - loss: 0.7377 - accuracy: 0.5641 - val_loss: 0.6009 - val_accuracy: 0.6559\n",
      "Epoch 2/25\n",
      "150/150 [==============================] - 3s 20ms/step - loss: 0.5439 - accuracy: 0.7068 - val_loss: 0.5001 - val_accuracy: 0.7448\n",
      "Epoch 3/25\n",
      "150/150 [==============================] - 3s 18ms/step - loss: 0.4345 - accuracy: 0.7958 - val_loss: 0.4126 - val_accuracy: 0.8056\n",
      "Epoch 4/25\n",
      "150/150 [==============================] - 3s 19ms/step - loss: 0.3469 - accuracy: 0.8479 - val_loss: 0.3585 - val_accuracy: 0.8431\n",
      "Epoch 5/25\n",
      "150/150 [==============================] - 3s 21ms/step - loss: 0.2805 - accuracy: 0.8817 - val_loss: 0.3283 - val_accuracy: 0.8580\n",
      "Epoch 6/25\n",
      "150/150 [==============================] - 3s 19ms/step - loss: 0.2346 - accuracy: 0.9072 - val_loss: 0.3173 - val_accuracy: 0.8529\n",
      "Epoch 7/25\n",
      "150/150 [==============================] - 3s 17ms/step - loss: 0.2011 - accuracy: 0.9221 - val_loss: 0.3130 - val_accuracy: 0.8574\n",
      "Epoch 8/25\n",
      "150/150 [==============================] - 3s 18ms/step - loss: 0.1744 - accuracy: 0.9341 - val_loss: 0.3035 - val_accuracy: 0.8694\n",
      "Epoch 9/25\n",
      "150/150 [==============================] - 3s 17ms/step - loss: 0.1494 - accuracy: 0.9460 - val_loss: 0.3072 - val_accuracy: 0.8678\n",
      "Epoch 10/25\n",
      "150/150 [==============================] - 3s 17ms/step - loss: 0.1309 - accuracy: 0.9549 - val_loss: 0.3253 - val_accuracy: 0.8728\n",
      "Epoch 11/25\n",
      "150/150 [==============================] - 3s 19ms/step - loss: 0.1124 - accuracy: 0.9640 - val_loss: 0.3248 - val_accuracy: 0.8666\n",
      "Epoch 12/25\n",
      "150/150 [==============================] - 3s 17ms/step - loss: 0.0976 - accuracy: 0.9706 - val_loss: 0.3369 - val_accuracy: 0.8640\n",
      "Epoch 13/25\n",
      "150/150 [==============================] - 3s 17ms/step - loss: 0.0847 - accuracy: 0.9759 - val_loss: 0.3487 - val_accuracy: 0.8672\n",
      "Epoch 14/25\n",
      "150/150 [==============================] - 3s 17ms/step - loss: 0.0721 - accuracy: 0.9804 - val_loss: 0.3632 - val_accuracy: 0.8691\n",
      "Epoch 15/25\n",
      "150/150 [==============================] - 3s 18ms/step - loss: 0.0615 - accuracy: 0.9855 - val_loss: 0.3766 - val_accuracy: 0.8658\n",
      "Epoch 16/25\n",
      "150/150 [==============================] - 3s 17ms/step - loss: 0.0523 - accuracy: 0.9889 - val_loss: 0.3986 - val_accuracy: 0.8690\n",
      "Epoch 17/25\n",
      "150/150 [==============================] - 3s 17ms/step - loss: 0.0442 - accuracy: 0.9912 - val_loss: 0.4131 - val_accuracy: 0.8644\n",
      "Epoch 18/25\n",
      "150/150 [==============================] - 3s 17ms/step - loss: 0.0378 - accuracy: 0.9926 - val_loss: 0.4318 - val_accuracy: 0.8668\n",
      "Epoch 19/25\n",
      "150/150 [==============================] - 3s 17ms/step - loss: 0.0315 - accuracy: 0.9948 - val_loss: 0.4494 - val_accuracy: 0.8629\n",
      "Epoch 20/25\n",
      "150/150 [==============================] - 3s 18ms/step - loss: 0.0265 - accuracy: 0.9963 - val_loss: 0.4703 - val_accuracy: 0.8622\n",
      "Epoch 21/25\n",
      "150/150 [==============================] - 3s 18ms/step - loss: 0.0227 - accuracy: 0.9972 - val_loss: 0.4891 - val_accuracy: 0.8590\n",
      "Epoch 22/25\n",
      "150/150 [==============================] - 3s 17ms/step - loss: 0.0188 - accuracy: 0.9981 - val_loss: 0.5085 - val_accuracy: 0.8584\n",
      "Epoch 23/25\n",
      "150/150 [==============================] - 3s 18ms/step - loss: 0.0156 - accuracy: 0.9989 - val_loss: 0.5283 - val_accuracy: 0.8596\n",
      "Epoch 24/25\n",
      "150/150 [==============================] - 3s 18ms/step - loss: 0.0130 - accuracy: 0.9992 - val_loss: 0.5534 - val_accuracy: 0.8616\n",
      "Epoch 25/25\n",
      "150/150 [==============================] - 3s 18ms/step - loss: 0.0112 - accuracy: 0.9993 - val_loss: 0.5672 - val_accuracy: 0.8583\n"
     ]
    }
   ],
   "source": [
    "history=model.fit(train_data.shuffle(10000).batch(100),epochs=25,\n",
    "                 validation_data=v_data.batch(100),verbose=1)"
   ]
  },
  {
   "cell_type": "code",
   "execution_count": 31,
   "id": "d744c9a7",
   "metadata": {},
   "outputs": [
    {
     "name": "stdout",
     "output_type": "stream",
     "text": [
      "250/250 - 1s - loss: 0.6210 - accuracy: 0.8406 - 1s/epoch - 4ms/step\n",
      "loss 0.6209637522697449\n",
      "accuracy 0.8405600190162659\n"
     ]
    }
   ],
   "source": [
    "result=model.evaluate(test_data.batch(100),verbose=2)\n",
    "for name,values in zip(model.metrics_names,result):\n",
    "    print(name,values)"
   ]
  },
  {
   "cell_type": "code",
   "execution_count": null,
   "id": "1276118a",
   "metadata": {},
   "outputs": [],
   "source": []
  }
 ],
 "metadata": {
  "kernelspec": {
   "display_name": "Python 3 (ipykernel)",
   "language": "python",
   "name": "python3"
  },
  "language_info": {
   "codemirror_mode": {
    "name": "ipython",
    "version": 3
   },
   "file_extension": ".py",
   "mimetype": "text/x-python",
   "name": "python",
   "nbconvert_exporter": "python",
   "pygments_lexer": "ipython3",
   "version": "3.11.4"
  }
 },
 "nbformat": 4,
 "nbformat_minor": 5
}
